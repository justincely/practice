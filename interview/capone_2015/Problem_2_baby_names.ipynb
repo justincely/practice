{
 "metadata": {
  "name": "",
  "signature": "sha256:124feb7ed452e0fbcb949c3cffc574cf97a1b7f845bdc0967fa600f4d96b58ca"
 },
 "nbformat": 3,
 "nbformat_minor": 0,
 "worksheets": [
  {
   "cells": [
    {
     "cell_type": "code",
     "collapsed": false,
     "input": [
      "from __future__ import division\n",
      "\n",
      "import matplotlib.pyplot as plt\n",
      "import numpy as np\n",
      "import glob\n",
      "import os"
     ],
     "language": "python",
     "metadata": {},
     "outputs": [],
     "prompt_number": 1
    },
    {
     "cell_type": "code",
     "collapsed": false,
     "input": [
      "data_dir = 'namesbystate'"
     ],
     "language": "python",
     "metadata": {},
     "outputs": [],
     "prompt_number": 2
    },
    {
     "cell_type": "markdown",
     "metadata": {},
     "source": [
      "---\n",
      "\n",
      "## A 1:\n",
      "\n",
      "The dataset consists of individual txt files for each state which are made up of comma-delimited rows of state, gender, birth year, and birth name.  \n",
      "\n",
      "Some limitations I noticed in the datasets:\n",
      "\n",
      "*  The State code is repeated in every row, even though it's given in the name of the txt file.  This, while not an issue for the current size of the dataset, is unnecessarily providing redundant information to each row and making the dataset larger.  \n",
      "*  The birth names are limited to 2-15 characters, which will cause distortions in the information for very long or short names.  Presumably the >15 names are truncated and the <2 names are expanded, but it's impossible to know with the information here.  \n",
      "*  From the ReadMe given with the data, names which occur fewer than 5 times have been omitted from each state.  This would distort certain comparisons and global counts (as was the intention of the restriction), such as relative ranking of low-count names and total sum of births.  "
     ]
    },
    {
     "cell_type": "markdown",
     "metadata": {},
     "source": [
      "---\n",
      "\n",
      "## A 2:\n",
      "To find the most popular birth name of all time for a given gender requires simply summing the counts of each unique birth name accross all time and all 50 states.\n",
      "\n",
      "(Note) an alternative solution that would save memory but increase computation time would be to re-order the aggregation operations to be name-first.  I.e., sum all the Aaron accross time and state, then Adam, etc...  This would allow the discarding from memory of any name with less than the current maximum number of occurances.  However, this is more complicated, more IO and iteration heavy, and isn't necessary for a dataset this size."
     ]
    },
    {
     "cell_type": "code",
     "collapsed": false,
     "input": [
      "name_counts = {}\n",
      "wanted_gender = 'M'\n",
      "\n",
      "for filepath in glob.iglob(os.path.join(data_dir, '??.TXT')):\n",
      "    with open(filepath, 'r') as txtfile:\n",
      "        \n",
      "        for line in txtfile:\n",
      "            state, gender, year, name, count = line.strip().split(',')\n",
      "            count = int(count)\n",
      "        \n",
      "            if gender != wanted_gender:\n",
      "                continue\n",
      "            \n",
      "            if not name in name_counts:\n",
      "                name_counts[name] = count\n",
      "            else:\n",
      "                name_counts[name] += count"
     ],
     "language": "python",
     "metadata": {},
     "outputs": [],
     "prompt_number": 3
    },
    {
     "cell_type": "code",
     "collapsed": false,
     "input": [
      "name = max(name_counts.iterkeys(), key=lambda name: name_counts[name])\n",
      "count = name_counts[name]\n",
      "print \"The most popular name is {} with a count of {}\".format(name, count)"
     ],
     "language": "python",
     "metadata": {},
     "outputs": [
      {
       "output_type": "stream",
       "stream": "stdout",
       "text": [
        "The most popular name is James with a count of 4924235\n"
       ]
      }
     ],
     "prompt_number": 4
    },
    {
     "cell_type": "markdown",
     "metadata": {},
     "source": [
      "Finally, we'll just do a quick sanity check to make sure we're right and that no name has an occurance equal to that of the determined most frequent.  Iterating through the counts again yields only the determined name at or above our found count frequency."
     ]
    },
    {
     "cell_type": "code",
     "collapsed": false,
     "input": [
      "for other_name, other_count in name_counts.iteritems():\n",
      "    if other_count >= count:\n",
      "        print other_name, other_count"
     ],
     "language": "python",
     "metadata": {},
     "outputs": [
      {
       "output_type": "stream",
       "stream": "stdout",
       "text": [
        "James 4924235\n"
       ]
      }
     ],
     "prompt_number": 5
    },
    {
     "cell_type": "markdown",
     "metadata": {},
     "source": [
      "---\n",
      "\n",
      "## A 3:\n",
      "\n",
      "The most gender ambiguous name of all time is, ironically, a little ambiguous as the definition for what is ambiguous was not defined. \n",
      "\n",
      "This could mean simply a name that is equally assigned to girls and boys, in which case this is a binary state which is not intrinsically rankable.  A ranking could be done by the number of times in which a name was assigned to both genders, but that isn't really ranking the level of ambiguousness but really the popularity of an ambiguous name. \n",
      "\n",
      "An alternate would be the percentage in which a name was assiged to both genders, but this becomes skewed in low numbers.  E.g. a name assigned just once each to a boy and girl would be 100% ambiguous, whereas another name assigned 10x to a boy and 12 times to a girl would only be 83% ambiguous.\n",
      "\n",
      "\n"
     ]
    },
    {
     "cell_type": "code",
     "collapsed": false,
     "input": [
      "def select_gender_ambiguous(wanted_year=2013):\n",
      "    \"\"\"Pull out gender ambiguous names\n",
      "    \n",
      "    Collate male and female names of the desired year.  Then compute the set of \n",
      "    names in both groups.  For all names in both sets, rank them according to those which have\n",
      "    the most similar (hopefully 0) number of occurances.  \n",
      "    \n",
      "    Parameters:\n",
      "    -----------\n",
      "    wanted_year : int\n",
      "        the year which will be examined for names\n",
      "    \n",
      "    Returns:\n",
      "    --------\n",
      "    smallest_diff : int\n",
      "        the smallest difference between the occurances of a name in two genders\n",
      "    found_names : list\n",
      "        the names which all have a difference of smallest_diff\n",
      "    \"\"\"\n",
      "    \n",
      "    male_names = {}\n",
      "    female_names = {}\n",
      "    for filepath in glob.iglob(os.path.join(data_dir, '??.TXT')):\n",
      "        with open(filepath, 'r') as txtfile:\n",
      "            for line in txtfile:\n",
      "                state, gender, year, name, count = line.strip().split(',')\n",
      "                count = int(count)\n",
      "                year = int(year)\n",
      "        \n",
      "                if year != wanted_year:\n",
      "                    continue\n",
      "\n",
      "                if gender == 'M':\n",
      "                    male_names[name] = count\n",
      "                elif gender == 'F':\n",
      "                    female_names[name] = count\n",
      "                else:\n",
      "                    raise ValueError(\"{} not understood, must be M or F\".format(gender))\n",
      "    \n",
      "    ambiguous_names = set(female_names.iterkeys()) & set(male_names.iterkeys())\n",
      "    \n",
      "    diff = lambda key: abs(male_names[key] - female_names[key])\n",
      "    \n",
      "\n",
      "    found_names = []\n",
      "    for i, name in enumerate(ambiguous_names):\n",
      "        current_diff = diff(name)\n",
      "        if i == 0:\n",
      "            smallest_diff = current_diff\n",
      "            found_names.append(name)\n",
      "        elif current_diff < smallest_diff:\n",
      "            smallest_diff = current_diff\n",
      "            found_names = [name]\n",
      "        elif current_diff == smallest_diff:\n",
      "            found_names.append(name)\n",
      "    \n",
      "    return smallest_diff, found_names"
     ],
     "language": "python",
     "metadata": {},
     "outputs": [],
     "prompt_number": 6
    },
    {
     "cell_type": "code",
     "collapsed": false,
     "input": [
      "count, names = select_gender_ambiguous(1945)\n",
      "print \"The most gender ambiuous names for 1945 had {} different occurances\".format(count)\n",
      "print names"
     ],
     "language": "python",
     "metadata": {},
     "outputs": [
      {
       "output_type": "stream",
       "stream": "stdout",
       "text": [
        "The most gender ambiuous names for 1945 had 0 different occurances\n",
        "['Johnny', 'Whitney', 'Peter', 'Johnie', 'Felix', 'Noel', 'Sherrill', 'Chris', 'Marty', 'Pearlie', 'Jimmy', 'Manuel', 'Shelly', 'Dickie', 'Ira', 'Kim', 'Gerry', 'Bernie', 'Cleo']\n"
       ]
      }
     ],
     "prompt_number": 7
    },
    {
     "cell_type": "code",
     "collapsed": false,
     "input": [
      "count, names = select_gender_ambiguous(2013)\n",
      "print \"The most gender ambiuous names for 2013 had {} different occurances\".format(count)\n",
      "print names"
     ],
     "language": "python",
     "metadata": {},
     "outputs": [
      {
       "output_type": "stream",
       "stream": "stdout",
       "text": [
        "The most gender ambiuous names for 2013 had 0 different occurances\n",
        "['Shelby', 'Micaiah', 'Mayson', 'Keaton', 'Crimson', 'Arlin', 'Jorden', 'True', 'Shea', 'Damani', 'Emory', 'Berkley', 'Kaidyn', 'Aries', 'Arin', 'Tanner', 'Jaedyn', 'Dempsey', 'Tristan', 'Ryan', 'Arian', 'Eliah', 'Kendal', 'Wesley', 'Haven', 'Sincere', 'Bryce', 'Divine', 'Briley', 'Finnley', 'Braylin', 'Zaire', 'Reilly', 'Christian', 'Devon', 'Kaedyn', 'Lennox', 'Damoni', 'Rian', 'Amani', 'Issa', 'Kylar', 'Jensen', 'Miller', 'Rain', 'Cedar', 'Israel', 'Raylen', 'Brantley', 'Jodie', 'Rene', 'Akira', 'Karson', 'Aarya', 'Colby', 'Krishna', 'Adair', 'Tru', 'Dakotah', 'Merritt', 'Wiley', 'Royce', 'Jade', 'Ely', 'Shai', 'Ivory', 'Leighton', 'Jessy', 'Lake', 'Kadyn', 'Iman', 'Kyndall', 'Sonam', 'Payson', 'Kamari', 'Kameron', 'Naveen']\n"
       ]
      }
     ],
     "prompt_number": 8
    },
    {
     "cell_type": "markdown",
     "metadata": {},
     "source": [
      "---\n",
      "\n",
      "## A 4:"
     ]
    },
    {
     "cell_type": "code",
     "collapsed": false,
     "input": [
      "def select_on_year(wanted_year):\n",
      "    \"\"\" Count all names in a given year\n",
      "    \n",
      "    Parameters:\n",
      "    -----------\n",
      "    wanted_year : int\n",
      "        the year to select on\n",
      "        \n",
      "    Returns:\n",
      "    --------\n",
      "    out_counts : dict\n",
      "        name, count pairs of total occurances\n",
      "    our_frecuency : dict\n",
      "        name, number pairs of times the name was reported in the year accross the states.\n",
      "    \"\"\"\n",
      "    \n",
      "    out_counts = {}\n",
      "    out_frequency = {}\n",
      "    \n",
      "    for filepath in glob.iglob(os.path.join(data_dir, '??.TXT')):\n",
      "        with open(filepath, 'r') as txtfile:\n",
      "            for line in txtfile:\n",
      "                state, gender, year, name, count = line.strip().split(',')\n",
      "                count = int(count)\n",
      "                year = int(year)\n",
      "            \n",
      "                if not year == wanted_year:\n",
      "                    continue\n",
      "                if year > wanted_year:\n",
      "                    break\n",
      "            \n",
      "                if not name in out_counts:\n",
      "                    out_counts[name] = count\n",
      "                    out_frequency[name] = 1\n",
      "                else:\n",
      "                    out_counts[name] += count \n",
      "                    out_frequency[name] += 1\n",
      "                    \n",
      "\n",
      "    return out_counts, out_frequency"
     ],
     "language": "python",
     "metadata": {},
     "outputs": [],
     "prompt_number": 9
    },
    {
     "cell_type": "code",
     "collapsed": false,
     "input": [
      "first_counts, first_frequency = select_on_year(1980)\n",
      "last_counts, last_frequency = select_on_year(2013)\n",
      "\n",
      "possible_names = set(first_counts.iterkeys()) & set(last_counts.iterkeys())\n",
      "\n",
      "change = {name : 100*(last_counts[name]-first_counts[name])/first_counts[name] for name in possible_names}"
     ],
     "language": "python",
     "metadata": {},
     "outputs": [],
     "prompt_number": 10
    },
    {
     "cell_type": "code",
     "collapsed": false,
     "input": [
      "name = max(change.iterkeys(), key=lambda name: change[name])\n",
      "percentage = change[name]\n",
      "\n",
      "print \"The name {} had the largest increase since 1980 of {}%\".format(name, percentage)"
     ],
     "language": "python",
     "metadata": {},
     "outputs": [
      {
       "output_type": "stream",
       "stream": "stdout",
       "text": [
        "The name Colton had the largest increase since 1980 of 128680.0%\n"
       ]
      }
     ],
     "prompt_number": 11
    },
    {
     "cell_type": "code",
     "collapsed": false,
     "input": [
      "name = min(change.iterkeys(), key=lambda name: change[name])\n",
      "percentage = change[name]\n",
      "print \"The name {} had the largest decrease since 1980 of {}%\".format(name, percentage)"
     ],
     "language": "python",
     "metadata": {},
     "outputs": [
      {
       "output_type": "stream",
       "stream": "stdout",
       "text": [
        "The name Misty had the largest decrease since 1980 of -99.7834325934%\n"
       ]
      }
     ],
     "prompt_number": 12
    },
    {
     "cell_type": "markdown",
     "metadata": {},
     "source": [
      "---\n",
      "\n",
      "## A 5:\n",
      "\n",
      "This question also is slightly under-specified.  It could mean a larger increase/decrease in the same timeframe or in a different timeframe.  I thought the former was more likely given the phrasing and question ordering, so this is the question I answered.\n",
      "\n",
      "The datasets have built-in uncertainty, in that state-by-state occurances of a name will be under-reported if there were only 4 or less instances of the name.  Therefore, in the extremes, I can correct the first counting or the last counting of a name by adding in the number of times the name was not found multiplied by 4.  This would tilt the count towards the maximum possible value that may be possible and be un-reported."
     ]
    },
    {
     "cell_type": "code",
     "collapsed": false,
     "input": [
      "#-- larger increase:\n",
      "\n",
      "#-- first counts stays the same, assuming counting was 100% correct\n",
      "#-- last counts increases by possible missing values, given by the frequency dictionaries\n",
      "\n",
      "last_counts_corr = {}\n",
      "for name in last_counts.iterkeys():\n",
      "    last_counts_corr[name] = last_counts[name] + 102-last_frequency[name] * 4"
     ],
     "language": "python",
     "metadata": {},
     "outputs": [],
     "prompt_number": 13
    },
    {
     "cell_type": "code",
     "collapsed": false,
     "input": [
      "change = {name : 100*(last_counts_corr[name]-first_counts[name])/first_counts[name] for name in possible_names}"
     ],
     "language": "python",
     "metadata": {},
     "outputs": [],
     "prompt_number": 14
    },
    {
     "cell_type": "code",
     "collapsed": false,
     "input": [
      "name = max(change.iterkeys(), key=lambda name: change[name])\n",
      "percentage = change[name]\n",
      "print \"The name {} had the largest increase since 1980 of {}%\".format(name, percentage)"
     ],
     "language": "python",
     "metadata": {},
     "outputs": [
      {
       "output_type": "stream",
       "stream": "stdout",
       "text": [
        "The name Colton had the largest increase since 1980 of 126720.0%\n"
       ]
      }
     ],
     "prompt_number": 15
    },
    {
     "cell_type": "code",
     "collapsed": false,
     "input": [
      "#-- larger decrease:\n",
      "\n",
      "#-- first counts is increased by the possible missing values, given by the frequency dictionaries\n",
      "#-- last counts stays the same, assuming counting was 100# correct\n",
      "\n",
      "first_counts_corr = {}\n",
      "for name in first_counts.iterkeys():\n",
      "    first_counts_corr[name] = first_counts[name] + 102-first_frequency[name] * 4"
     ],
     "language": "python",
     "metadata": {},
     "outputs": [],
     "prompt_number": 16
    },
    {
     "cell_type": "code",
     "collapsed": false,
     "input": [
      "change = {name : 100*(last_counts[name]-first_counts_corr[name])/first_counts_corr[name] for name in possible_names}"
     ],
     "language": "python",
     "metadata": {},
     "outputs": [],
     "prompt_number": 17
    },
    {
     "cell_type": "code",
     "collapsed": false,
     "input": [
      "name = min(change.iterkeys(), key=lambda name: change[name])\n",
      "percentage = change[name]\n",
      "\n",
      "print \"The name {} had the largest decrease since 1980 of {}%\".format(name, percentage)"
     ],
     "language": "python",
     "metadata": {},
     "outputs": [
      {
       "output_type": "stream",
       "stream": "stdout",
       "text": [
        "The name Misty had the largest decrease since 1980 of -99.7795333456%\n"
       ]
      }
     ],
     "prompt_number": 18
    },
    {
     "cell_type": "markdown",
     "metadata": {},
     "source": [
      "After correcting the reported values to the extreme potentially un-reported values, the names with the largest and smallest decrease have remained the same (ignoring changes equal to infinity)."
     ]
    },
    {
     "cell_type": "markdown",
     "metadata": {},
     "source": [
      "---\n",
      "#B  \n",
      "\n",
      "I'm not very familiar with the SSA website (particularly what other data is available), so my thoughts on where to go with this are limited.  Additionally, simple name/year/gender information seems rather limited, especially since this information could just be scraped off of many public websites such as facebook (with it's own limitations).  \n",
      "\n",
      "Other avenues of exploration in this dataset:  \n",
      "\n",
      "*  One could make an attempt at estimating future/past demographics by state from the given names.  Using some broad assumptions that people name their children along the lines of their heritage, the frequency of names that come from specific nationalities would give a rough estimate of demographics.  \n",
      "*  One could track the changes in the frequency of names related to different events in the world: people becoming famous actors, world leaders doing something prominent, etc.  \n",
      "*  Given the M/F gender included in the data, one could track the relative birthrates as a function of time/state"
     ]
    },
    {
     "cell_type": "code",
     "collapsed": false,
     "input": [],
     "language": "python",
     "metadata": {},
     "outputs": []
    }
   ],
   "metadata": {}
  }
 ]
}